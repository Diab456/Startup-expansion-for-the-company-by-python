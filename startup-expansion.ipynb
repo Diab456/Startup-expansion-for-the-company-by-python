{
 "cells": [
  {
   "cell_type": "code",
   "execution_count": 8,
   "id": "b8e0646c",
   "metadata": {},
   "outputs": [],
   "source": [
    "import numpy as np\n",
    "import pandas as pd \n",
    "import matplotlib.pyplot as plt\n",
    "import seaborn as sns"
   ]
  },
  {
   "cell_type": "code",
   "execution_count": 11,
   "id": "f35483aa",
   "metadata": {},
   "outputs": [
    {
     "data": {
      "text/html": [
       "<div>\n",
       "<style scoped>\n",
       "    .dataframe tbody tr th:only-of-type {\n",
       "        vertical-align: middle;\n",
       "    }\n",
       "\n",
       "    .dataframe tbody tr th {\n",
       "        vertical-align: top;\n",
       "    }\n",
       "\n",
       "    .dataframe thead th {\n",
       "        text-align: right;\n",
       "    }\n",
       "</style>\n",
       "<table border=\"1\" class=\"dataframe\">\n",
       "  <thead>\n",
       "    <tr style=\"text-align: right;\">\n",
       "      <th></th>\n",
       "      <th>Store ID</th>\n",
       "      <th>City</th>\n",
       "      <th>State</th>\n",
       "      <th>Sales Region</th>\n",
       "      <th>New Expansion</th>\n",
       "      <th>Marketing Spend</th>\n",
       "      <th>Revenue</th>\n",
       "    </tr>\n",
       "  </thead>\n",
       "  <tbody>\n",
       "    <tr>\n",
       "      <th>0</th>\n",
       "      <td>1</td>\n",
       "      <td>Peoria</td>\n",
       "      <td>Arizona</td>\n",
       "      <td>Region 2</td>\n",
       "      <td>Old</td>\n",
       "      <td>2601</td>\n",
       "      <td>48610</td>\n",
       "    </tr>\n",
       "    <tr>\n",
       "      <th>1</th>\n",
       "      <td>2</td>\n",
       "      <td>Midland</td>\n",
       "      <td>Texas</td>\n",
       "      <td>Region 2</td>\n",
       "      <td>Old</td>\n",
       "      <td>2727</td>\n",
       "      <td>45689</td>\n",
       "    </tr>\n",
       "    <tr>\n",
       "      <th>2</th>\n",
       "      <td>3</td>\n",
       "      <td>Spokane</td>\n",
       "      <td>Washington</td>\n",
       "      <td>Region 2</td>\n",
       "      <td>Old</td>\n",
       "      <td>2768</td>\n",
       "      <td>49554</td>\n",
       "    </tr>\n",
       "    <tr>\n",
       "      <th>3</th>\n",
       "      <td>4</td>\n",
       "      <td>Denton</td>\n",
       "      <td>Texas</td>\n",
       "      <td>Region 2</td>\n",
       "      <td>Old</td>\n",
       "      <td>2759</td>\n",
       "      <td>38284</td>\n",
       "    </tr>\n",
       "    <tr>\n",
       "      <th>4</th>\n",
       "      <td>5</td>\n",
       "      <td>Overland Park</td>\n",
       "      <td>Kansas</td>\n",
       "      <td>Region 2</td>\n",
       "      <td>Old</td>\n",
       "      <td>2869</td>\n",
       "      <td>59887</td>\n",
       "    </tr>\n",
       "    <tr>\n",
       "      <th>...</th>\n",
       "      <td>...</td>\n",
       "      <td>...</td>\n",
       "      <td>...</td>\n",
       "      <td>...</td>\n",
       "      <td>...</td>\n",
       "      <td>...</td>\n",
       "      <td>...</td>\n",
       "    </tr>\n",
       "    <tr>\n",
       "      <th>145</th>\n",
       "      <td>146</td>\n",
       "      <td>Paterson</td>\n",
       "      <td>New Jersey</td>\n",
       "      <td>Region 1</td>\n",
       "      <td>New</td>\n",
       "      <td>2251</td>\n",
       "      <td>34603</td>\n",
       "    </tr>\n",
       "    <tr>\n",
       "      <th>146</th>\n",
       "      <td>147</td>\n",
       "      <td>Brownsville</td>\n",
       "      <td>Texas</td>\n",
       "      <td>Region 2</td>\n",
       "      <td>New</td>\n",
       "      <td>3675</td>\n",
       "      <td>63148</td>\n",
       "    </tr>\n",
       "    <tr>\n",
       "      <th>147</th>\n",
       "      <td>148</td>\n",
       "      <td>Rockford</td>\n",
       "      <td>Illinois</td>\n",
       "      <td>Region 1</td>\n",
       "      <td>New</td>\n",
       "      <td>2648</td>\n",
       "      <td>43377</td>\n",
       "    </tr>\n",
       "    <tr>\n",
       "      <th>148</th>\n",
       "      <td>149</td>\n",
       "      <td>College Station</td>\n",
       "      <td>Texas</td>\n",
       "      <td>Region 2</td>\n",
       "      <td>New</td>\n",
       "      <td>2994</td>\n",
       "      <td>22457</td>\n",
       "    </tr>\n",
       "    <tr>\n",
       "      <th>149</th>\n",
       "      <td>150</td>\n",
       "      <td>Thousand Oaks</td>\n",
       "      <td>California</td>\n",
       "      <td>Region 2</td>\n",
       "      <td>New</td>\n",
       "      <td>2431</td>\n",
       "      <td>40141</td>\n",
       "    </tr>\n",
       "  </tbody>\n",
       "</table>\n",
       "<p>150 rows × 7 columns</p>\n",
       "</div>"
      ],
      "text/plain": [
       "     Store ID             City       State Sales Region New Expansion  \\\n",
       "0           1           Peoria     Arizona     Region 2           Old   \n",
       "1           2          Midland       Texas     Region 2           Old   \n",
       "2           3          Spokane  Washington     Region 2           Old   \n",
       "3           4           Denton       Texas     Region 2           Old   \n",
       "4           5    Overland Park      Kansas     Region 2           Old   \n",
       "..        ...              ...         ...          ...           ...   \n",
       "145       146         Paterson  New Jersey     Region 1           New   \n",
       "146       147      Brownsville       Texas     Region 2           New   \n",
       "147       148         Rockford    Illinois     Region 1           New   \n",
       "148       149  College Station       Texas     Region 2           New   \n",
       "149       150    Thousand Oaks  California     Region 2           New   \n",
       "\n",
       "     Marketing Spend  Revenue  \n",
       "0               2601    48610  \n",
       "1               2727    45689  \n",
       "2               2768    49554  \n",
       "3               2759    38284  \n",
       "4               2869    59887  \n",
       "..               ...      ...  \n",
       "145             2251    34603  \n",
       "146             3675    63148  \n",
       "147             2648    43377  \n",
       "148             2994    22457  \n",
       "149             2431    40141  \n",
       "\n",
       "[150 rows x 7 columns]"
      ]
     },
     "execution_count": 11,
     "metadata": {},
     "output_type": "execute_result"
    }
   ],
   "source": [
    "data_startup = pd.read_excel('E:\\Dataset\\startup-expansion.xlsx')\n",
    "data_startup"
   ]
  },
  {
   "cell_type": "code",
   "execution_count": 12,
   "id": "6fc1fc2f",
   "metadata": {},
   "outputs": [
    {
     "name": "stdout",
     "output_type": "stream",
     "text": [
      "<class 'pandas.core.frame.DataFrame'>\n",
      "RangeIndex: 150 entries, 0 to 149\n",
      "Data columns (total 7 columns):\n",
      " #   Column           Non-Null Count  Dtype \n",
      "---  ------           --------------  ----- \n",
      " 0   Store ID         150 non-null    int64 \n",
      " 1   City             150 non-null    object\n",
      " 2   State            150 non-null    object\n",
      " 3   Sales Region     150 non-null    object\n",
      " 4   New Expansion    150 non-null    object\n",
      " 5   Marketing Spend  150 non-null    int64 \n",
      " 6   Revenue          150 non-null    int64 \n",
      "dtypes: int64(3), object(4)\n",
      "memory usage: 8.3+ KB\n"
     ]
    }
   ],
   "source": [
    "data_startup.info()"
   ]
  },
  {
   "cell_type": "code",
   "execution_count": 14,
   "id": "f13b5d7e",
   "metadata": {},
   "outputs": [
    {
     "data": {
      "text/html": [
       "<div>\n",
       "<style scoped>\n",
       "    .dataframe tbody tr th:only-of-type {\n",
       "        vertical-align: middle;\n",
       "    }\n",
       "\n",
       "    .dataframe tbody tr th {\n",
       "        vertical-align: top;\n",
       "    }\n",
       "\n",
       "    .dataframe thead th {\n",
       "        text-align: right;\n",
       "    }\n",
       "</style>\n",
       "<table border=\"1\" class=\"dataframe\">\n",
       "  <thead>\n",
       "    <tr style=\"text-align: right;\">\n",
       "      <th></th>\n",
       "      <th>Marketing Spend</th>\n",
       "      <th>Revenue</th>\n",
       "    </tr>\n",
       "  </thead>\n",
       "  <tbody>\n",
       "    <tr>\n",
       "      <th>count</th>\n",
       "      <td>150.00</td>\n",
       "      <td>150.00</td>\n",
       "    </tr>\n",
       "    <tr>\n",
       "      <th>mean</th>\n",
       "      <td>2893.15</td>\n",
       "      <td>39301.43</td>\n",
       "    </tr>\n",
       "    <tr>\n",
       "      <th>std</th>\n",
       "      <td>367.86</td>\n",
       "      <td>15465.75</td>\n",
       "    </tr>\n",
       "    <tr>\n",
       "      <th>min</th>\n",
       "      <td>1811.00</td>\n",
       "      <td>15562.00</td>\n",
       "    </tr>\n",
       "    <tr>\n",
       "      <th>25%</th>\n",
       "      <td>2662.25</td>\n",
       "      <td>21113.50</td>\n",
       "    </tr>\n",
       "    <tr>\n",
       "      <th>50%</th>\n",
       "      <td>2898.00</td>\n",
       "      <td>42993.00</td>\n",
       "    </tr>\n",
       "    <tr>\n",
       "      <th>75%</th>\n",
       "      <td>3111.50</td>\n",
       "      <td>51145.50</td>\n",
       "    </tr>\n",
       "    <tr>\n",
       "      <th>max</th>\n",
       "      <td>3984.00</td>\n",
       "      <td>68828.00</td>\n",
       "    </tr>\n",
       "  </tbody>\n",
       "</table>\n",
       "</div>"
      ],
      "text/plain": [
       "       Marketing Spend   Revenue\n",
       "count           150.00    150.00\n",
       "mean           2893.15  39301.43\n",
       "std             367.86  15465.75\n",
       "min            1811.00  15562.00\n",
       "25%            2662.25  21113.50\n",
       "50%            2898.00  42993.00\n",
       "75%            3111.50  51145.50\n",
       "max            3984.00  68828.00"
      ]
     },
     "execution_count": 14,
     "metadata": {},
     "output_type": "execute_result"
    }
   ],
   "source": [
    "data_startup[['Marketing Spend','Revenue']].describe().round(2)"
   ]
  },
  {
   "cell_type": "code",
   "execution_count": 21,
   "id": "9a978ebc",
   "metadata": {},
   "outputs": [
    {
     "data": {
      "text/plain": [
       "array(['Peoria', 'Midland', 'Spokane', 'Denton', 'Overland Park',\n",
       "       'Yonkers', 'Birmingham', 'Antioch', 'Worcester', 'Rochester',\n",
       "       'Rialto', 'Santa Maria', 'Las Cruces', 'Jackson', 'Hillsboro',\n",
       "       'Temecula', 'Tallahassee', 'Fontana', 'Kent', 'Broken Arrow',\n",
       "       'Concord', 'Modesto', 'Montgomery', 'Burbank', 'Elk Grove',\n",
       "       'Port St. Lucie', 'Elizabeth', 'Salt Lake City', 'Waco', 'Edison',\n",
       "       'Boulder', 'Grand Rapids', 'Tyler', 'Charleston', 'Huntsville',\n",
       "       'Pearland', 'Inglewood', 'Oxnard', 'Miramar', 'Cape Coral',\n",
       "       'Syracuse', 'Newport News', 'Lewisville', 'Carrollton',\n",
       "       'San Bernardino', 'Pasadena', 'Roseville', 'Murrieta',\n",
       "       'San Angelo', 'Olathe', 'Akron', 'Fullerton', 'Manchester',\n",
       "       'Everett', 'West Covina', 'Thornton', 'Hampton', 'Waterbury',\n",
       "       'Ventura', 'Davenport', 'Columbia', 'Simi Valley', 'Richmond',\n",
       "       'Little Rock', 'El Cajon', 'Santa Clara', 'Oceanside', 'Davie',\n",
       "       'Lakeland', 'Centennial', 'Lowell', 'Ontario', 'Palm Bay',\n",
       "       'Murfreesboro', 'Vancouver', 'Topeka', 'West Valley City',\n",
       "       'New Haven', 'Pueblo', 'Costa Mesa', 'Garden Grove',\n",
       "       'Fort Lauderdale', 'North Charleston', 'Cambridge', 'Greeley',\n",
       "       'Gresham', 'Amarillo', 'High Point', 'Vista', 'Tacoma', 'Mesquite',\n",
       "       'Augusta', 'Elgin', 'Aurora', 'Gainesville', 'Dayton',\n",
       "       'Wichita Falls', 'Naperville', 'Clovis', 'Billings', 'Surprise',\n",
       "       'Coral Springs', 'Visalia', 'Killeen', 'Orange', 'Richardson',\n",
       "       'South Bend', 'Fayetteville', 'Sioux Falls', 'Grand Prairie',\n",
       "       'Stamford', 'West Palm Beach', 'Knoxville', 'Renton', 'McAllen',\n",
       "       'Woodbridge', 'Shreveport', 'Bellevue', 'Huntington Beach',\n",
       "       'Santa Clarita', 'Sterling Heights', 'Mobile', 'Bridgeport',\n",
       "       'Daly City', 'Sandy Springs', 'Cedar Rapids', 'Columbus',\n",
       "       'Moreno Valley', 'Pompano Beach', 'Savannah', 'West Jordan',\n",
       "       'Des Moines', 'Green Bay', 'Santa Rosa', 'San Mateo', 'Warren',\n",
       "       'Norwalk', 'Lafayette', 'Providence', 'Chattanooga', 'Tempe',\n",
       "       'Joliet', 'Rancho Cucamonga', 'Glendale', 'Paterson',\n",
       "       'Brownsville', 'Rockford', 'College Station', 'Thousand Oaks'],\n",
       "      dtype=object)"
      ]
     },
     "execution_count": 21,
     "metadata": {},
     "output_type": "execute_result"
    }
   ],
   "source": [
    "data_startup['City'].unique()"
   ]
  },
  {
   "cell_type": "code",
   "execution_count": 30,
   "id": "302ecf57",
   "metadata": {},
   "outputs": [
    {
     "data": {
      "text/plain": [
       "149"
      ]
     },
     "execution_count": 30,
     "metadata": {},
     "output_type": "execute_result"
    }
   ],
   "source": [
    "data_startup['City'].nunique()"
   ]
  },
  {
   "cell_type": "code",
   "execution_count": 23,
   "id": "3bcdc8b2",
   "metadata": {},
   "outputs": [
    {
     "data": {
      "text/plain": [
       "Rochester        2\n",
       "Killeen          1\n",
       "Wichita Falls    1\n",
       "Naperville       1\n",
       "Clovis           1\n",
       "                ..\n",
       "Akron            1\n",
       "Fullerton        1\n",
       "Manchester       1\n",
       "Everett          1\n",
       "Thousand Oaks    1\n",
       "Name: City, Length: 149, dtype: int64"
      ]
     },
     "execution_count": 23,
     "metadata": {},
     "output_type": "execute_result"
    }
   ],
   "source": [
    "data_startup['City'].value_counts()"
   ]
  },
  {
   "cell_type": "code",
   "execution_count": 28,
   "id": "5983acfd",
   "metadata": {},
   "outputs": [
    {
     "data": {
      "text/plain": [
       "array(['Arizona', 'Texas', 'Washington', 'Kansas', 'New York', 'Alabama',\n",
       "       'California', 'Massachusetts', 'New Mexico', 'Mississippi',\n",
       "       'Oregon', 'Florida', 'Oklahoma', 'New Jersey', 'Utah', 'Colorado',\n",
       "       'Michigan', 'South Carolina', 'Virginia', 'Ohio', 'New Hampshire',\n",
       "       'Connecticut', 'Iowa', 'Arkansas', 'Tennessee', 'North Carolina',\n",
       "       'Georgia', 'Illinois', 'Montana', 'Indiana', 'South Dakota',\n",
       "       'Louisiana', 'Minnesota', 'Wisconsin', 'Rhode Island'],\n",
       "      dtype=object)"
      ]
     },
     "execution_count": 28,
     "metadata": {},
     "output_type": "execute_result"
    }
   ],
   "source": [
    "data_startup['State'].unique()"
   ]
  },
  {
   "cell_type": "code",
   "execution_count": 26,
   "id": "3085a021",
   "metadata": {},
   "outputs": [
    {
     "data": {
      "text/plain": [
       "35"
      ]
     },
     "execution_count": 26,
     "metadata": {},
     "output_type": "execute_result"
    }
   ],
   "source": [
    "data_startup['State'].nunique()"
   ]
  },
  {
   "cell_type": "code",
   "execution_count": 24,
   "id": "9778fdd7",
   "metadata": {},
   "outputs": [
    {
     "data": {
      "text/plain": [
       "California        40\n",
       "Texas             17\n",
       "Florida           12\n",
       "Washington         7\n",
       "Colorado           5\n",
       "Illinois           5\n",
       "Georgia            4\n",
       "Alabama            4\n",
       "Connecticut        4\n",
       "New Jersey         4\n",
       "Arizona            3\n",
       "Tennessee          3\n",
       "Iowa               3\n",
       "Michigan           3\n",
       "South Carolina     3\n",
       "Utah               3\n",
       "Massachusetts      3\n",
       "Kansas             3\n",
       "New York           3\n",
       "Louisiana          2\n",
       "North Carolina     2\n",
       "Ohio               2\n",
       "Virginia           2\n",
       "Oregon             2\n",
       "Mississippi        1\n",
       "New Mexico         1\n",
       "Arkansas           1\n",
       "New Hampshire      1\n",
       "Oklahoma           1\n",
       "Montana            1\n",
       "Indiana            1\n",
       "South Dakota       1\n",
       "Minnesota          1\n",
       "Wisconsin          1\n",
       "Rhode Island       1\n",
       "Name: State, dtype: int64"
      ]
     },
     "execution_count": 24,
     "metadata": {},
     "output_type": "execute_result"
    }
   ],
   "source": [
    "data_startup['State'].value_counts()"
   ]
  },
  {
   "cell_type": "code",
   "execution_count": 32,
   "id": "6a8cbb32",
   "metadata": {},
   "outputs": [
    {
     "data": {
      "text/plain": [
       "array(['Region 2', 'Region 1'], dtype=object)"
      ]
     },
     "execution_count": 32,
     "metadata": {},
     "output_type": "execute_result"
    }
   ],
   "source": [
    "data_startup['Sales Region'].unique()"
   ]
  },
  {
   "cell_type": "code",
   "execution_count": 33,
   "id": "a67f4c02",
   "metadata": {},
   "outputs": [
    {
     "data": {
      "text/plain": [
       "2"
      ]
     },
     "execution_count": 33,
     "metadata": {},
     "output_type": "execute_result"
    }
   ],
   "source": [
    "data_startup['Sales Region'].nunique()"
   ]
  },
  {
   "cell_type": "code",
   "execution_count": 35,
   "id": "cf2ff920",
   "metadata": {},
   "outputs": [
    {
     "data": {
      "text/plain": [
       "Region 2    86\n",
       "Region 1    64\n",
       "Name: Sales Region, dtype: int64"
      ]
     },
     "execution_count": 35,
     "metadata": {},
     "output_type": "execute_result"
    }
   ],
   "source": [
    "data_startup['Sales Region'].value_counts()"
   ]
  },
  {
   "cell_type": "code",
   "execution_count": 36,
   "id": "9aecb875",
   "metadata": {},
   "outputs": [
    {
     "data": {
      "text/plain": [
       "array(['Old', 'New'], dtype=object)"
      ]
     },
     "execution_count": 36,
     "metadata": {},
     "output_type": "execute_result"
    }
   ],
   "source": [
    "data_startup['New Expansion'].unique()"
   ]
  },
  {
   "cell_type": "code",
   "execution_count": 37,
   "id": "ad31b67d",
   "metadata": {},
   "outputs": [
    {
     "data": {
      "text/plain": [
       "2"
      ]
     },
     "execution_count": 37,
     "metadata": {},
     "output_type": "execute_result"
    }
   ],
   "source": [
    "data_startup['New Expansion'].nunique()"
   ]
  },
  {
   "cell_type": "code",
   "execution_count": 38,
   "id": "cdc3537f",
   "metadata": {},
   "outputs": [
    {
     "data": {
      "text/plain": [
       "Old    140\n",
       "New     10\n",
       "Name: New Expansion, dtype: int64"
      ]
     },
     "execution_count": 38,
     "metadata": {},
     "output_type": "execute_result"
    }
   ],
   "source": [
    "data_startup['New Expansion'].value_counts()"
   ]
  },
  {
   "cell_type": "code",
   "execution_count": 40,
   "id": "d1d37341",
   "metadata": {},
   "outputs": [
    {
     "data": {
      "text/plain": [
       "Store ID           0\n",
       "City               0\n",
       "State              0\n",
       "Sales Region       0\n",
       "New Expansion      0\n",
       "Marketing Spend    0\n",
       "Revenue            0\n",
       "dtype: int64"
      ]
     },
     "execution_count": 40,
     "metadata": {},
     "output_type": "execute_result"
    }
   ],
   "source": [
    "data_startup.isna().sum()"
   ]
  },
  {
   "cell_type": "code",
   "execution_count": 41,
   "id": "00d6db9e",
   "metadata": {},
   "outputs": [
    {
     "data": {
      "text/plain": [
       "0"
      ]
     },
     "execution_count": 41,
     "metadata": {},
     "output_type": "execute_result"
    }
   ],
   "source": [
    "data_startup.duplicated().sum()"
   ]
  },
  {
   "cell_type": "code",
   "execution_count": 54,
   "id": "4ebdb127",
   "metadata": {},
   "outputs": [
    {
     "data": {
      "text/plain": [
       "1      1\n",
       "95     1\n",
       "97     1\n",
       "98     1\n",
       "99     1\n",
       "      ..\n",
       "51     1\n",
       "52     1\n",
       "53     1\n",
       "54     1\n",
       "150    1\n",
       "Name: Store ID, Length: 150, dtype: int64"
      ]
     },
     "execution_count": 54,
     "metadata": {},
     "output_type": "execute_result"
    }
   ],
   "source": [
    "data_startup['Store ID'].value_counts()"
   ]
  },
  {
   "cell_type": "code",
   "execution_count": 51,
   "id": "a1628dad",
   "metadata": {},
   "outputs": [
    {
     "data": {
      "text/html": [
       "<div>\n",
       "<style scoped>\n",
       "    .dataframe tbody tr th:only-of-type {\n",
       "        vertical-align: middle;\n",
       "    }\n",
       "\n",
       "    .dataframe tbody tr th {\n",
       "        vertical-align: top;\n",
       "    }\n",
       "\n",
       "    .dataframe thead th {\n",
       "        text-align: right;\n",
       "    }\n",
       "</style>\n",
       "<table border=\"1\" class=\"dataframe\">\n",
       "  <thead>\n",
       "    <tr style=\"text-align: right;\">\n",
       "      <th></th>\n",
       "      <th>Store ID</th>\n",
       "      <th>City</th>\n",
       "      <th>State</th>\n",
       "      <th>Sales Region</th>\n",
       "      <th>New Expansion</th>\n",
       "      <th>Marketing Spend</th>\n",
       "      <th>Revenue</th>\n",
       "    </tr>\n",
       "  </thead>\n",
       "  <tbody>\n",
       "    <tr>\n",
       "      <th>9</th>\n",
       "      <td>10</td>\n",
       "      <td>Rochester</td>\n",
       "      <td>New York</td>\n",
       "      <td>Region 1</td>\n",
       "      <td>Old</td>\n",
       "      <td>2984</td>\n",
       "      <td>64906</td>\n",
       "    </tr>\n",
       "    <tr>\n",
       "      <th>63</th>\n",
       "      <td>64</td>\n",
       "      <td>Little Rock</td>\n",
       "      <td>Arkansas</td>\n",
       "      <td>Region 2</td>\n",
       "      <td>Old</td>\n",
       "      <td>2440</td>\n",
       "      <td>68828</td>\n",
       "    </tr>\n",
       "    <tr>\n",
       "      <th>92</th>\n",
       "      <td>93</td>\n",
       "      <td>Elgin</td>\n",
       "      <td>Illinois</td>\n",
       "      <td>Region 1</td>\n",
       "      <td>Old</td>\n",
       "      <td>2553</td>\n",
       "      <td>18215</td>\n",
       "    </tr>\n",
       "    <tr>\n",
       "      <th>80</th>\n",
       "      <td>81</td>\n",
       "      <td>Garden Grove</td>\n",
       "      <td>California</td>\n",
       "      <td>Region 2</td>\n",
       "      <td>Old</td>\n",
       "      <td>3285</td>\n",
       "      <td>57530</td>\n",
       "    </tr>\n",
       "    <tr>\n",
       "      <th>59</th>\n",
       "      <td>60</td>\n",
       "      <td>Davenport</td>\n",
       "      <td>Iowa</td>\n",
       "      <td>Region 1</td>\n",
       "      <td>Old</td>\n",
       "      <td>3175</td>\n",
       "      <td>23764</td>\n",
       "    </tr>\n",
       "  </tbody>\n",
       "</table>\n",
       "</div>"
      ],
      "text/plain": [
       "    Store ID          City       State Sales Region New Expansion  \\\n",
       "9         10     Rochester    New York     Region 1           Old   \n",
       "63        64   Little Rock    Arkansas     Region 2           Old   \n",
       "92        93         Elgin    Illinois     Region 1           Old   \n",
       "80        81  Garden Grove  California     Region 2           Old   \n",
       "59        60     Davenport        Iowa     Region 1           Old   \n",
       "\n",
       "    Marketing Spend  Revenue  \n",
       "9              2984    64906  \n",
       "63             2440    68828  \n",
       "92             2553    18215  \n",
       "80             3285    57530  \n",
       "59             3175    23764  "
      ]
     },
     "execution_count": 51,
     "metadata": {},
     "output_type": "execute_result"
    }
   ],
   "source": [
    "data_startup.sample(5)"
   ]
  },
  {
   "cell_type": "code",
   "execution_count": 52,
   "id": "ec72c2bc",
   "metadata": {},
   "outputs": [
    {
     "data": {
      "text/plain": [
       "<AxesSubplot:>"
      ]
     },
     "execution_count": 52,
     "metadata": {},
     "output_type": "execute_result"
    },
    {
     "data": {
      "image/png": "[encoded data removed]",
      "text/plain": [
       "<Figure size 640x480 with 1 Axes>"
      ]
     },
     "metadata": {},
     "output_type": "display_data"
    }
   ],
   "source": [
    "data_startup['Sales Region'].value_counts().plot.bar()"
   ]
  },
  {
   "cell_type": "code",
   "execution_count": 56,
   "id": "38e486a4",
   "metadata": {},
   "outputs": [
    {
     "data": {
      "text/plain": [
       "{'New': [140, 141, 142, 143, 144, 145, 146, 147, 148, 149], 'Old': [0, 1, 2, 3, 4, 5, 6, 7, 8, 9, 10, 11, 12, 13, 14, 15, 16, 17, 18, 19, 20, 21, 22, 23, 24, 25, 26, 27, 28, 29, 30, 31, 32, 33, 34, 35, 36, 37, 38, 39, 40, 41, 42, 43, 44, 45, 46, 47, 48, 49, 50, 51, 52, 53, 54, 55, 56, 57, 58, 59, 60, 61, 62, 63, 64, 65, 66, 67, 68, 69, 70, 71, 72, 73, 74, 75, 76, 77, 78, 79, 80, 81, 82, 83, 84, 85, 86, 87, 88, 89, 90, 91, 92, 93, 94, 95, 96, 97, 98, 99, ...]}"
      ]
     },
     "execution_count": 56,
     "metadata": {},
     "output_type": "execute_result"
    }
   ],
   "source": [
    "data_startup.groupby('New Expansion').groups"
   ]
  },
  {
   "cell_type": "code",
   "execution_count": 57,
   "id": "0f763808",
   "metadata": {},
   "outputs": [],
   "source": [
    "data_startup['Earning'] =  data_startup['Revenue']- data_startup['Marketing Spend']"
   ]
  },
  {
   "cell_type": "code",
   "execution_count": 58,
   "id": "4768fabd",
   "metadata": {},
   "outputs": [
    {
     "data": {
      "text/html": [
       "<div>\n",
       "<style scoped>\n",
       "    .dataframe tbody tr th:only-of-type {\n",
       "        vertical-align: middle;\n",
       "    }\n",
       "\n",
       "    .dataframe tbody tr th {\n",
       "        vertical-align: top;\n",
       "    }\n",
       "\n",
       "    .dataframe thead th {\n",
       "        text-align: right;\n",
       "    }\n",
       "</style>\n",
       "<table border=\"1\" class=\"dataframe\">\n",
       "  <thead>\n",
       "    <tr style=\"text-align: right;\">\n",
       "      <th></th>\n",
       "      <th>Store ID</th>\n",
       "      <th>City</th>\n",
       "      <th>State</th>\n",
       "      <th>Sales Region</th>\n",
       "      <th>New Expansion</th>\n",
       "      <th>Marketing Spend</th>\n",
       "      <th>Revenue</th>\n",
       "      <th>Earning</th>\n",
       "    </tr>\n",
       "  </thead>\n",
       "  <tbody>\n",
       "    <tr>\n",
       "      <th>0</th>\n",
       "      <td>1</td>\n",
       "      <td>Peoria</td>\n",
       "      <td>Arizona</td>\n",
       "      <td>Region 2</td>\n",
       "      <td>Old</td>\n",
       "      <td>2601</td>\n",
       "      <td>48610</td>\n",
       "      <td>46009</td>\n",
       "    </tr>\n",
       "    <tr>\n",
       "      <th>1</th>\n",
       "      <td>2</td>\n",
       "      <td>Midland</td>\n",
       "      <td>Texas</td>\n",
       "      <td>Region 2</td>\n",
       "      <td>Old</td>\n",
       "      <td>2727</td>\n",
       "      <td>45689</td>\n",
       "      <td>42962</td>\n",
       "    </tr>\n",
       "    <tr>\n",
       "      <th>2</th>\n",
       "      <td>3</td>\n",
       "      <td>Spokane</td>\n",
       "      <td>Washington</td>\n",
       "      <td>Region 2</td>\n",
       "      <td>Old</td>\n",
       "      <td>2768</td>\n",
       "      <td>49554</td>\n",
       "      <td>46786</td>\n",
       "    </tr>\n",
       "    <tr>\n",
       "      <th>3</th>\n",
       "      <td>4</td>\n",
       "      <td>Denton</td>\n",
       "      <td>Texas</td>\n",
       "      <td>Region 2</td>\n",
       "      <td>Old</td>\n",
       "      <td>2759</td>\n",
       "      <td>38284</td>\n",
       "      <td>35525</td>\n",
       "    </tr>\n",
       "    <tr>\n",
       "      <th>4</th>\n",
       "      <td>5</td>\n",
       "      <td>Overland Park</td>\n",
       "      <td>Kansas</td>\n",
       "      <td>Region 2</td>\n",
       "      <td>Old</td>\n",
       "      <td>2869</td>\n",
       "      <td>59887</td>\n",
       "      <td>57018</td>\n",
       "    </tr>\n",
       "    <tr>\n",
       "      <th>...</th>\n",
       "      <td>...</td>\n",
       "      <td>...</td>\n",
       "      <td>...</td>\n",
       "      <td>...</td>\n",
       "      <td>...</td>\n",
       "      <td>...</td>\n",
       "      <td>...</td>\n",
       "      <td>...</td>\n",
       "    </tr>\n",
       "    <tr>\n",
       "      <th>145</th>\n",
       "      <td>146</td>\n",
       "      <td>Paterson</td>\n",
       "      <td>New Jersey</td>\n",
       "      <td>Region 1</td>\n",
       "      <td>New</td>\n",
       "      <td>2251</td>\n",
       "      <td>34603</td>\n",
       "      <td>32352</td>\n",
       "    </tr>\n",
       "    <tr>\n",
       "      <th>146</th>\n",
       "      <td>147</td>\n",
       "      <td>Brownsville</td>\n",
       "      <td>Texas</td>\n",
       "      <td>Region 2</td>\n",
       "      <td>New</td>\n",
       "      <td>3675</td>\n",
       "      <td>63148</td>\n",
       "      <td>59473</td>\n",
       "    </tr>\n",
       "    <tr>\n",
       "      <th>147</th>\n",
       "      <td>148</td>\n",
       "      <td>Rockford</td>\n",
       "      <td>Illinois</td>\n",
       "      <td>Region 1</td>\n",
       "      <td>New</td>\n",
       "      <td>2648</td>\n",
       "      <td>43377</td>\n",
       "      <td>40729</td>\n",
       "    </tr>\n",
       "    <tr>\n",
       "      <th>148</th>\n",
       "      <td>149</td>\n",
       "      <td>College Station</td>\n",
       "      <td>Texas</td>\n",
       "      <td>Region 2</td>\n",
       "      <td>New</td>\n",
       "      <td>2994</td>\n",
       "      <td>22457</td>\n",
       "      <td>19463</td>\n",
       "    </tr>\n",
       "    <tr>\n",
       "      <th>149</th>\n",
       "      <td>150</td>\n",
       "      <td>Thousand Oaks</td>\n",
       "      <td>California</td>\n",
       "      <td>Region 2</td>\n",
       "      <td>New</td>\n",
       "      <td>2431</td>\n",
       "      <td>40141</td>\n",
       "      <td>37710</td>\n",
       "    </tr>\n",
       "  </tbody>\n",
       "</table>\n",
       "<p>150 rows × 8 columns</p>\n",
       "</div>"
      ],
      "text/plain": [
       "     Store ID             City       State Sales Region New Expansion  \\\n",
       "0           1           Peoria     Arizona     Region 2           Old   \n",
       "1           2          Midland       Texas     Region 2           Old   \n",
       "2           3          Spokane  Washington     Region 2           Old   \n",
       "3           4           Denton       Texas     Region 2           Old   \n",
       "4           5    Overland Park      Kansas     Region 2           Old   \n",
       "..        ...              ...         ...          ...           ...   \n",
       "145       146         Paterson  New Jersey     Region 1           New   \n",
       "146       147      Brownsville       Texas     Region 2           New   \n",
       "147       148         Rockford    Illinois     Region 1           New   \n",
       "148       149  College Station       Texas     Region 2           New   \n",
       "149       150    Thousand Oaks  California     Region 2           New   \n",
       "\n",
       "     Marketing Spend  Revenue  Earning  \n",
       "0               2601    48610    46009  \n",
       "1               2727    45689    42962  \n",
       "2               2768    49554    46786  \n",
       "3               2759    38284    35525  \n",
       "4               2869    59887    57018  \n",
       "..               ...      ...      ...  \n",
       "145             2251    34603    32352  \n",
       "146             3675    63148    59473  \n",
       "147             2648    43377    40729  \n",
       "148             2994    22457    19463  \n",
       "149             2431    40141    37710  \n",
       "\n",
       "[150 rows x 8 columns]"
      ]
     },
     "execution_count": 58,
     "metadata": {},
     "output_type": "execute_result"
    }
   ],
   "source": [
    "data_startup"
   ]
  },
  {
   "cell_type": "code",
   "execution_count": 60,
   "id": "64345765",
   "metadata": {},
   "outputs": [
    {
     "data": {
      "text/plain": [
       "0      1768.90\n",
       "1      1575.43\n",
       "2      1690.25\n",
       "3      1287.60\n",
       "4      1987.38\n",
       "        ...   \n",
       "145    1437.23\n",
       "146    1618.31\n",
       "147    1538.10\n",
       "148     650.07\n",
       "149    1551.21\n",
       "Length: 150, dtype: float64"
      ]
     },
     "execution_count": 60,
     "metadata": {},
     "output_type": "execute_result"
    }
   ],
   "source": [
    " round((data_startup['Earning'] / data_startup['Marketing Spend']) * 100 ,2)"
   ]
  },
  {
   "cell_type": "code",
   "execution_count": 61,
   "id": "1c3fe9b8",
   "metadata": {},
   "outputs": [],
   "source": [
    "data_startup['ROI'] =round((data_startup['Earning'] / data_startup['Marketing Spend']) * 100 ,2)"
   ]
  },
  {
   "cell_type": "code",
   "execution_count": 62,
   "id": "1d65fdf5",
   "metadata": {},
   "outputs": [
    {
     "data": {
      "text/html": [
       "<div>\n",
       "<style scoped>\n",
       "    .dataframe tbody tr th:only-of-type {\n",
       "        vertical-align: middle;\n",
       "    }\n",
       "\n",
       "    .dataframe tbody tr th {\n",
       "        vertical-align: top;\n",
       "    }\n",
       "\n",
       "    .dataframe thead th {\n",
       "        text-align: right;\n",
       "    }\n",
       "</style>\n",
       "<table border=\"1\" class=\"dataframe\">\n",
       "  <thead>\n",
       "    <tr style=\"text-align: right;\">\n",
       "      <th></th>\n",
       "      <th>Store ID</th>\n",
       "      <th>City</th>\n",
       "      <th>State</th>\n",
       "      <th>Sales Region</th>\n",
       "      <th>New Expansion</th>\n",
       "      <th>Marketing Spend</th>\n",
       "      <th>Revenue</th>\n",
       "      <th>Earning</th>\n",
       "      <th>ROI</th>\n",
       "    </tr>\n",
       "  </thead>\n",
       "  <tbody>\n",
       "    <tr>\n",
       "      <th>0</th>\n",
       "      <td>1</td>\n",
       "      <td>Peoria</td>\n",
       "      <td>Arizona</td>\n",
       "      <td>Region 2</td>\n",
       "      <td>Old</td>\n",
       "      <td>2601</td>\n",
       "      <td>48610</td>\n",
       "      <td>46009</td>\n",
       "      <td>1768.90</td>\n",
       "    </tr>\n",
       "    <tr>\n",
       "      <th>1</th>\n",
       "      <td>2</td>\n",
       "      <td>Midland</td>\n",
       "      <td>Texas</td>\n",
       "      <td>Region 2</td>\n",
       "      <td>Old</td>\n",
       "      <td>2727</td>\n",
       "      <td>45689</td>\n",
       "      <td>42962</td>\n",
       "      <td>1575.43</td>\n",
       "    </tr>\n",
       "    <tr>\n",
       "      <th>2</th>\n",
       "      <td>3</td>\n",
       "      <td>Spokane</td>\n",
       "      <td>Washington</td>\n",
       "      <td>Region 2</td>\n",
       "      <td>Old</td>\n",
       "      <td>2768</td>\n",
       "      <td>49554</td>\n",
       "      <td>46786</td>\n",
       "      <td>1690.25</td>\n",
       "    </tr>\n",
       "    <tr>\n",
       "      <th>3</th>\n",
       "      <td>4</td>\n",
       "      <td>Denton</td>\n",
       "      <td>Texas</td>\n",
       "      <td>Region 2</td>\n",
       "      <td>Old</td>\n",
       "      <td>2759</td>\n",
       "      <td>38284</td>\n",
       "      <td>35525</td>\n",
       "      <td>1287.60</td>\n",
       "    </tr>\n",
       "    <tr>\n",
       "      <th>4</th>\n",
       "      <td>5</td>\n",
       "      <td>Overland Park</td>\n",
       "      <td>Kansas</td>\n",
       "      <td>Region 2</td>\n",
       "      <td>Old</td>\n",
       "      <td>2869</td>\n",
       "      <td>59887</td>\n",
       "      <td>57018</td>\n",
       "      <td>1987.38</td>\n",
       "    </tr>\n",
       "    <tr>\n",
       "      <th>...</th>\n",
       "      <td>...</td>\n",
       "      <td>...</td>\n",
       "      <td>...</td>\n",
       "      <td>...</td>\n",
       "      <td>...</td>\n",
       "      <td>...</td>\n",
       "      <td>...</td>\n",
       "      <td>...</td>\n",
       "      <td>...</td>\n",
       "    </tr>\n",
       "    <tr>\n",
       "      <th>145</th>\n",
       "      <td>146</td>\n",
       "      <td>Paterson</td>\n",
       "      <td>New Jersey</td>\n",
       "      <td>Region 1</td>\n",
       "      <td>New</td>\n",
       "      <td>2251</td>\n",
       "      <td>34603</td>\n",
       "      <td>32352</td>\n",
       "      <td>1437.23</td>\n",
       "    </tr>\n",
       "    <tr>\n",
       "      <th>146</th>\n",
       "      <td>147</td>\n",
       "      <td>Brownsville</td>\n",
       "      <td>Texas</td>\n",
       "      <td>Region 2</td>\n",
       "      <td>New</td>\n",
       "      <td>3675</td>\n",
       "      <td>63148</td>\n",
       "      <td>59473</td>\n",
       "      <td>1618.31</td>\n",
       "    </tr>\n",
       "    <tr>\n",
       "      <th>147</th>\n",
       "      <td>148</td>\n",
       "      <td>Rockford</td>\n",
       "      <td>Illinois</td>\n",
       "      <td>Region 1</td>\n",
       "      <td>New</td>\n",
       "      <td>2648</td>\n",
       "      <td>43377</td>\n",
       "      <td>40729</td>\n",
       "      <td>1538.10</td>\n",
       "    </tr>\n",
       "    <tr>\n",
       "      <th>148</th>\n",
       "      <td>149</td>\n",
       "      <td>College Station</td>\n",
       "      <td>Texas</td>\n",
       "      <td>Region 2</td>\n",
       "      <td>New</td>\n",
       "      <td>2994</td>\n",
       "      <td>22457</td>\n",
       "      <td>19463</td>\n",
       "      <td>650.07</td>\n",
       "    </tr>\n",
       "    <tr>\n",
       "      <th>149</th>\n",
       "      <td>150</td>\n",
       "      <td>Thousand Oaks</td>\n",
       "      <td>California</td>\n",
       "      <td>Region 2</td>\n",
       "      <td>New</td>\n",
       "      <td>2431</td>\n",
       "      <td>40141</td>\n",
       "      <td>37710</td>\n",
       "      <td>1551.21</td>\n",
       "    </tr>\n",
       "  </tbody>\n",
       "</table>\n",
       "<p>150 rows × 9 columns</p>\n",
       "</div>"
      ],
      "text/plain": [
       "     Store ID             City       State Sales Region New Expansion  \\\n",
       "0           1           Peoria     Arizona     Region 2           Old   \n",
       "1           2          Midland       Texas     Region 2           Old   \n",
       "2           3          Spokane  Washington     Region 2           Old   \n",
       "3           4           Denton       Texas     Region 2           Old   \n",
       "4           5    Overland Park      Kansas     Region 2           Old   \n",
       "..        ...              ...         ...          ...           ...   \n",
       "145       146         Paterson  New Jersey     Region 1           New   \n",
       "146       147      Brownsville       Texas     Region 2           New   \n",
       "147       148         Rockford    Illinois     Region 1           New   \n",
       "148       149  College Station       Texas     Region 2           New   \n",
       "149       150    Thousand Oaks  California     Region 2           New   \n",
       "\n",
       "     Marketing Spend  Revenue  Earning      ROI  \n",
       "0               2601    48610    46009  1768.90  \n",
       "1               2727    45689    42962  1575.43  \n",
       "2               2768    49554    46786  1690.25  \n",
       "3               2759    38284    35525  1287.60  \n",
       "4               2869    59887    57018  1987.38  \n",
       "..               ...      ...      ...      ...  \n",
       "145             2251    34603    32352  1437.23  \n",
       "146             3675    63148    59473  1618.31  \n",
       "147             2648    43377    40729  1538.10  \n",
       "148             2994    22457    19463   650.07  \n",
       "149             2431    40141    37710  1551.21  \n",
       "\n",
       "[150 rows x 9 columns]"
      ]
     },
     "execution_count": 62,
     "metadata": {},
     "output_type": "execute_result"
    }
   ],
   "source": [
    "data_startup"
   ]
  },
  {
   "cell_type": "code",
   "execution_count": 63,
   "id": "787359f2",
   "metadata": {},
   "outputs": [],
   "source": [
    "data_startup.to_csv('startup-expansion-new.csv')"
   ]
  },
  {
   "cell_type": "code",
   "execution_count": 64,
   "id": "0c6b9d5b",
   "metadata": {},
   "outputs": [
    {
     "data": {
      "text/html": [
       "<div>\n",
       "<style scoped>\n",
       "    .dataframe tbody tr th:only-of-type {\n",
       "        vertical-align: middle;\n",
       "    }\n",
       "\n",
       "    .dataframe tbody tr th {\n",
       "        vertical-align: top;\n",
       "    }\n",
       "\n",
       "    .dataframe thead th {\n",
       "        text-align: right;\n",
       "    }\n",
       "</style>\n",
       "<table border=\"1\" class=\"dataframe\">\n",
       "  <thead>\n",
       "    <tr style=\"text-align: right;\">\n",
       "      <th></th>\n",
       "      <th>Store ID</th>\n",
       "      <th>City</th>\n",
       "      <th>State</th>\n",
       "      <th>Sales Region</th>\n",
       "      <th>New Expansion</th>\n",
       "      <th>Marketing Spend</th>\n",
       "      <th>Revenue</th>\n",
       "      <th>Earning</th>\n",
       "      <th>ROI</th>\n",
       "    </tr>\n",
       "  </thead>\n",
       "  <tbody>\n",
       "    <tr>\n",
       "      <th>0</th>\n",
       "      <td>1</td>\n",
       "      <td>Peoria</td>\n",
       "      <td>Arizona</td>\n",
       "      <td>Region 2</td>\n",
       "      <td>Old</td>\n",
       "      <td>2601</td>\n",
       "      <td>48610</td>\n",
       "      <td>46009</td>\n",
       "      <td>1768.90</td>\n",
       "    </tr>\n",
       "    <tr>\n",
       "      <th>1</th>\n",
       "      <td>2</td>\n",
       "      <td>Midland</td>\n",
       "      <td>Texas</td>\n",
       "      <td>Region 2</td>\n",
       "      <td>Old</td>\n",
       "      <td>2727</td>\n",
       "      <td>45689</td>\n",
       "      <td>42962</td>\n",
       "      <td>1575.43</td>\n",
       "    </tr>\n",
       "    <tr>\n",
       "      <th>2</th>\n",
       "      <td>3</td>\n",
       "      <td>Spokane</td>\n",
       "      <td>Washington</td>\n",
       "      <td>Region 2</td>\n",
       "      <td>Old</td>\n",
       "      <td>2768</td>\n",
       "      <td>49554</td>\n",
       "      <td>46786</td>\n",
       "      <td>1690.25</td>\n",
       "    </tr>\n",
       "    <tr>\n",
       "      <th>3</th>\n",
       "      <td>4</td>\n",
       "      <td>Denton</td>\n",
       "      <td>Texas</td>\n",
       "      <td>Region 2</td>\n",
       "      <td>Old</td>\n",
       "      <td>2759</td>\n",
       "      <td>38284</td>\n",
       "      <td>35525</td>\n",
       "      <td>1287.60</td>\n",
       "    </tr>\n",
       "    <tr>\n",
       "      <th>4</th>\n",
       "      <td>5</td>\n",
       "      <td>Overland Park</td>\n",
       "      <td>Kansas</td>\n",
       "      <td>Region 2</td>\n",
       "      <td>Old</td>\n",
       "      <td>2869</td>\n",
       "      <td>59887</td>\n",
       "      <td>57018</td>\n",
       "      <td>1987.38</td>\n",
       "    </tr>\n",
       "    <tr>\n",
       "      <th>...</th>\n",
       "      <td>...</td>\n",
       "      <td>...</td>\n",
       "      <td>...</td>\n",
       "      <td>...</td>\n",
       "      <td>...</td>\n",
       "      <td>...</td>\n",
       "      <td>...</td>\n",
       "      <td>...</td>\n",
       "      <td>...</td>\n",
       "    </tr>\n",
       "    <tr>\n",
       "      <th>145</th>\n",
       "      <td>146</td>\n",
       "      <td>Paterson</td>\n",
       "      <td>New Jersey</td>\n",
       "      <td>Region 1</td>\n",
       "      <td>New</td>\n",
       "      <td>2251</td>\n",
       "      <td>34603</td>\n",
       "      <td>32352</td>\n",
       "      <td>1437.23</td>\n",
       "    </tr>\n",
       "    <tr>\n",
       "      <th>146</th>\n",
       "      <td>147</td>\n",
       "      <td>Brownsville</td>\n",
       "      <td>Texas</td>\n",
       "      <td>Region 2</td>\n",
       "      <td>New</td>\n",
       "      <td>3675</td>\n",
       "      <td>63148</td>\n",
       "      <td>59473</td>\n",
       "      <td>1618.31</td>\n",
       "    </tr>\n",
       "    <tr>\n",
       "      <th>147</th>\n",
       "      <td>148</td>\n",
       "      <td>Rockford</td>\n",
       "      <td>Illinois</td>\n",
       "      <td>Region 1</td>\n",
       "      <td>New</td>\n",
       "      <td>2648</td>\n",
       "      <td>43377</td>\n",
       "      <td>40729</td>\n",
       "      <td>1538.10</td>\n",
       "    </tr>\n",
       "    <tr>\n",
       "      <th>148</th>\n",
       "      <td>149</td>\n",
       "      <td>College Station</td>\n",
       "      <td>Texas</td>\n",
       "      <td>Region 2</td>\n",
       "      <td>New</td>\n",
       "      <td>2994</td>\n",
       "      <td>22457</td>\n",
       "      <td>19463</td>\n",
       "      <td>650.07</td>\n",
       "    </tr>\n",
       "    <tr>\n",
       "      <th>149</th>\n",
       "      <td>150</td>\n",
       "      <td>Thousand Oaks</td>\n",
       "      <td>California</td>\n",
       "      <td>Region 2</td>\n",
       "      <td>New</td>\n",
       "      <td>2431</td>\n",
       "      <td>40141</td>\n",
       "      <td>37710</td>\n",
       "      <td>1551.21</td>\n",
       "    </tr>\n",
       "  </tbody>\n",
       "</table>\n",
       "<p>150 rows × 9 columns</p>\n",
       "</div>"
      ],
      "text/plain": [
       "     Store ID             City       State Sales Region New Expansion  \\\n",
       "0           1           Peoria     Arizona     Region 2           Old   \n",
       "1           2          Midland       Texas     Region 2           Old   \n",
       "2           3          Spokane  Washington     Region 2           Old   \n",
       "3           4           Denton       Texas     Region 2           Old   \n",
       "4           5    Overland Park      Kansas     Region 2           Old   \n",
       "..        ...              ...         ...          ...           ...   \n",
       "145       146         Paterson  New Jersey     Region 1           New   \n",
       "146       147      Brownsville       Texas     Region 2           New   \n",
       "147       148         Rockford    Illinois     Region 1           New   \n",
       "148       149  College Station       Texas     Region 2           New   \n",
       "149       150    Thousand Oaks  California     Region 2           New   \n",
       "\n",
       "     Marketing Spend  Revenue  Earning      ROI  \n",
       "0               2601    48610    46009  1768.90  \n",
       "1               2727    45689    42962  1575.43  \n",
       "2               2768    49554    46786  1690.25  \n",
       "3               2759    38284    35525  1287.60  \n",
       "4               2869    59887    57018  1987.38  \n",
       "..               ...      ...      ...      ...  \n",
       "145             2251    34603    32352  1437.23  \n",
       "146             3675    63148    59473  1618.31  \n",
       "147             2648    43377    40729  1538.10  \n",
       "148             2994    22457    19463   650.07  \n",
       "149             2431    40141    37710  1551.21  \n",
       "\n",
       "[150 rows x 9 columns]"
      ]
     },
     "execution_count": 64,
     "metadata": {},
     "output_type": "execute_result"
    }
   ],
   "source": [
    "data_startup"
   ]
  },
  {
   "cell_type": "code",
   "execution_count": null,
   "id": "2236ed97",
   "metadata": {},
   "outputs": [],
   "source": []
  }
 ],
 "metadata": {
  "kernelspec": {
   "display_name": "Python 3 (ipykernel)",
   "language": "python",
   "name": "python3"
  },
  "language_info": {
   "codemirror_mode": {
    "name": "ipython",
    "version": 3
   },
   "file_extension": ".py",
   "mimetype": "text/x-python",
   "name": "python",
   "nbconvert_exporter": "python",
   "pygments_lexer": "ipython3",
   "version": "3.9.13"
  }
 },
 "nbformat": 4,
 "nbformat_minor": 5
}
